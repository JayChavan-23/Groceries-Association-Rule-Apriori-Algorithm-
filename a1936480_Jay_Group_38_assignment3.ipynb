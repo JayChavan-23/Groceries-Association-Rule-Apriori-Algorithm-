{
 "cells": [
  {
   "attachments": {},
   "cell_type": "markdown",
   "metadata": {
    "datalore": {
     "hide_input_from_viewers": true,
     "hide_output_from_viewers": true,
     "node_id": "R81T6htIW2HnpJbHfNrhXH",
     "type": "MD"
    }
   },
   "source": [
    "Understanding the Dataset:\n"
   ]
  },
  {
   "cell_type": "code",
   "execution_count": 1,
   "metadata": {
    "datalore": {
     "hide_input_from_viewers": true,
     "hide_output_from_viewers": true,
     "node_id": "qjpX43FoLhwC8zAc6HuIyA",
     "type": "CODE"
    }
   },
   "outputs": [
    {
     "ename": "FileNotFoundError",
     "evalue": "[Errno 2] No such file or directory: 'Groceriesdatatrain.csv'",
     "output_type": "error",
     "traceback": [
      "\u001b[0;31m---------------------------------------------------------------------------\u001b[0m",
      "\u001b[0;31mFileNotFoundError\u001b[0m                         Traceback (most recent call last)",
      "Cell \u001b[0;32mIn[1], line 2\u001b[0m\n\u001b[1;32m      1\u001b[0m \u001b[38;5;28;01mimport\u001b[39;00m \u001b[38;5;21;01mpandas\u001b[39;00m \u001b[38;5;28;01mas\u001b[39;00m \u001b[38;5;21;01mpd\u001b[39;00m\n\u001b[0;32m----> 2\u001b[0m df \u001b[38;5;241m=\u001b[39m pd\u001b[38;5;241m.\u001b[39mread_csv(\u001b[38;5;124m'\u001b[39m\u001b[38;5;124mGroceriesdatatrain.csv\u001b[39m\u001b[38;5;124m'\u001b[39m)\n",
      "File \u001b[0;32m/opt/anaconda3/lib/python3.11/site-packages/pandas/io/parsers/readers.py:948\u001b[0m, in \u001b[0;36mread_csv\u001b[0;34m(filepath_or_buffer, sep, delimiter, header, names, index_col, usecols, dtype, engine, converters, true_values, false_values, skipinitialspace, skiprows, skipfooter, nrows, na_values, keep_default_na, na_filter, verbose, skip_blank_lines, parse_dates, infer_datetime_format, keep_date_col, date_parser, date_format, dayfirst, cache_dates, iterator, chunksize, compression, thousands, decimal, lineterminator, quotechar, quoting, doublequote, escapechar, comment, encoding, encoding_errors, dialect, on_bad_lines, delim_whitespace, low_memory, memory_map, float_precision, storage_options, dtype_backend)\u001b[0m\n\u001b[1;32m    935\u001b[0m kwds_defaults \u001b[38;5;241m=\u001b[39m _refine_defaults_read(\n\u001b[1;32m    936\u001b[0m     dialect,\n\u001b[1;32m    937\u001b[0m     delimiter,\n\u001b[0;32m   (...)\u001b[0m\n\u001b[1;32m    944\u001b[0m     dtype_backend\u001b[38;5;241m=\u001b[39mdtype_backend,\n\u001b[1;32m    945\u001b[0m )\n\u001b[1;32m    946\u001b[0m kwds\u001b[38;5;241m.\u001b[39mupdate(kwds_defaults)\n\u001b[0;32m--> 948\u001b[0m \u001b[38;5;28;01mreturn\u001b[39;00m _read(filepath_or_buffer, kwds)\n",
      "File \u001b[0;32m/opt/anaconda3/lib/python3.11/site-packages/pandas/io/parsers/readers.py:611\u001b[0m, in \u001b[0;36m_read\u001b[0;34m(filepath_or_buffer, kwds)\u001b[0m\n\u001b[1;32m    608\u001b[0m _validate_names(kwds\u001b[38;5;241m.\u001b[39mget(\u001b[38;5;124m\"\u001b[39m\u001b[38;5;124mnames\u001b[39m\u001b[38;5;124m\"\u001b[39m, \u001b[38;5;28;01mNone\u001b[39;00m))\n\u001b[1;32m    610\u001b[0m \u001b[38;5;66;03m# Create the parser.\u001b[39;00m\n\u001b[0;32m--> 611\u001b[0m parser \u001b[38;5;241m=\u001b[39m TextFileReader(filepath_or_buffer, \u001b[38;5;241m*\u001b[39m\u001b[38;5;241m*\u001b[39mkwds)\n\u001b[1;32m    613\u001b[0m \u001b[38;5;28;01mif\u001b[39;00m chunksize \u001b[38;5;129;01mor\u001b[39;00m iterator:\n\u001b[1;32m    614\u001b[0m     \u001b[38;5;28;01mreturn\u001b[39;00m parser\n",
      "File \u001b[0;32m/opt/anaconda3/lib/python3.11/site-packages/pandas/io/parsers/readers.py:1448\u001b[0m, in \u001b[0;36mTextFileReader.__init__\u001b[0;34m(self, f, engine, **kwds)\u001b[0m\n\u001b[1;32m   1445\u001b[0m     \u001b[38;5;28mself\u001b[39m\u001b[38;5;241m.\u001b[39moptions[\u001b[38;5;124m\"\u001b[39m\u001b[38;5;124mhas_index_names\u001b[39m\u001b[38;5;124m\"\u001b[39m] \u001b[38;5;241m=\u001b[39m kwds[\u001b[38;5;124m\"\u001b[39m\u001b[38;5;124mhas_index_names\u001b[39m\u001b[38;5;124m\"\u001b[39m]\n\u001b[1;32m   1447\u001b[0m \u001b[38;5;28mself\u001b[39m\u001b[38;5;241m.\u001b[39mhandles: IOHandles \u001b[38;5;241m|\u001b[39m \u001b[38;5;28;01mNone\u001b[39;00m \u001b[38;5;241m=\u001b[39m \u001b[38;5;28;01mNone\u001b[39;00m\n\u001b[0;32m-> 1448\u001b[0m \u001b[38;5;28mself\u001b[39m\u001b[38;5;241m.\u001b[39m_engine \u001b[38;5;241m=\u001b[39m \u001b[38;5;28mself\u001b[39m\u001b[38;5;241m.\u001b[39m_make_engine(f, \u001b[38;5;28mself\u001b[39m\u001b[38;5;241m.\u001b[39mengine)\n",
      "File \u001b[0;32m/opt/anaconda3/lib/python3.11/site-packages/pandas/io/parsers/readers.py:1705\u001b[0m, in \u001b[0;36mTextFileReader._make_engine\u001b[0;34m(self, f, engine)\u001b[0m\n\u001b[1;32m   1703\u001b[0m     \u001b[38;5;28;01mif\u001b[39;00m \u001b[38;5;124m\"\u001b[39m\u001b[38;5;124mb\u001b[39m\u001b[38;5;124m\"\u001b[39m \u001b[38;5;129;01mnot\u001b[39;00m \u001b[38;5;129;01min\u001b[39;00m mode:\n\u001b[1;32m   1704\u001b[0m         mode \u001b[38;5;241m+\u001b[39m\u001b[38;5;241m=\u001b[39m \u001b[38;5;124m\"\u001b[39m\u001b[38;5;124mb\u001b[39m\u001b[38;5;124m\"\u001b[39m\n\u001b[0;32m-> 1705\u001b[0m \u001b[38;5;28mself\u001b[39m\u001b[38;5;241m.\u001b[39mhandles \u001b[38;5;241m=\u001b[39m get_handle(\n\u001b[1;32m   1706\u001b[0m     f,\n\u001b[1;32m   1707\u001b[0m     mode,\n\u001b[1;32m   1708\u001b[0m     encoding\u001b[38;5;241m=\u001b[39m\u001b[38;5;28mself\u001b[39m\u001b[38;5;241m.\u001b[39moptions\u001b[38;5;241m.\u001b[39mget(\u001b[38;5;124m\"\u001b[39m\u001b[38;5;124mencoding\u001b[39m\u001b[38;5;124m\"\u001b[39m, \u001b[38;5;28;01mNone\u001b[39;00m),\n\u001b[1;32m   1709\u001b[0m     compression\u001b[38;5;241m=\u001b[39m\u001b[38;5;28mself\u001b[39m\u001b[38;5;241m.\u001b[39moptions\u001b[38;5;241m.\u001b[39mget(\u001b[38;5;124m\"\u001b[39m\u001b[38;5;124mcompression\u001b[39m\u001b[38;5;124m\"\u001b[39m, \u001b[38;5;28;01mNone\u001b[39;00m),\n\u001b[1;32m   1710\u001b[0m     memory_map\u001b[38;5;241m=\u001b[39m\u001b[38;5;28mself\u001b[39m\u001b[38;5;241m.\u001b[39moptions\u001b[38;5;241m.\u001b[39mget(\u001b[38;5;124m\"\u001b[39m\u001b[38;5;124mmemory_map\u001b[39m\u001b[38;5;124m\"\u001b[39m, \u001b[38;5;28;01mFalse\u001b[39;00m),\n\u001b[1;32m   1711\u001b[0m     is_text\u001b[38;5;241m=\u001b[39mis_text,\n\u001b[1;32m   1712\u001b[0m     errors\u001b[38;5;241m=\u001b[39m\u001b[38;5;28mself\u001b[39m\u001b[38;5;241m.\u001b[39moptions\u001b[38;5;241m.\u001b[39mget(\u001b[38;5;124m\"\u001b[39m\u001b[38;5;124mencoding_errors\u001b[39m\u001b[38;5;124m\"\u001b[39m, \u001b[38;5;124m\"\u001b[39m\u001b[38;5;124mstrict\u001b[39m\u001b[38;5;124m\"\u001b[39m),\n\u001b[1;32m   1713\u001b[0m     storage_options\u001b[38;5;241m=\u001b[39m\u001b[38;5;28mself\u001b[39m\u001b[38;5;241m.\u001b[39moptions\u001b[38;5;241m.\u001b[39mget(\u001b[38;5;124m\"\u001b[39m\u001b[38;5;124mstorage_options\u001b[39m\u001b[38;5;124m\"\u001b[39m, \u001b[38;5;28;01mNone\u001b[39;00m),\n\u001b[1;32m   1714\u001b[0m )\n\u001b[1;32m   1715\u001b[0m \u001b[38;5;28;01massert\u001b[39;00m \u001b[38;5;28mself\u001b[39m\u001b[38;5;241m.\u001b[39mhandles \u001b[38;5;129;01mis\u001b[39;00m \u001b[38;5;129;01mnot\u001b[39;00m \u001b[38;5;28;01mNone\u001b[39;00m\n\u001b[1;32m   1716\u001b[0m f \u001b[38;5;241m=\u001b[39m \u001b[38;5;28mself\u001b[39m\u001b[38;5;241m.\u001b[39mhandles\u001b[38;5;241m.\u001b[39mhandle\n",
      "File \u001b[0;32m/opt/anaconda3/lib/python3.11/site-packages/pandas/io/common.py:863\u001b[0m, in \u001b[0;36mget_handle\u001b[0;34m(path_or_buf, mode, encoding, compression, memory_map, is_text, errors, storage_options)\u001b[0m\n\u001b[1;32m    858\u001b[0m \u001b[38;5;28;01melif\u001b[39;00m \u001b[38;5;28misinstance\u001b[39m(handle, \u001b[38;5;28mstr\u001b[39m):\n\u001b[1;32m    859\u001b[0m     \u001b[38;5;66;03m# Check whether the filename is to be opened in binary mode.\u001b[39;00m\n\u001b[1;32m    860\u001b[0m     \u001b[38;5;66;03m# Binary mode does not support 'encoding' and 'newline'.\u001b[39;00m\n\u001b[1;32m    861\u001b[0m     \u001b[38;5;28;01mif\u001b[39;00m ioargs\u001b[38;5;241m.\u001b[39mencoding \u001b[38;5;129;01mand\u001b[39;00m \u001b[38;5;124m\"\u001b[39m\u001b[38;5;124mb\u001b[39m\u001b[38;5;124m\"\u001b[39m \u001b[38;5;129;01mnot\u001b[39;00m \u001b[38;5;129;01min\u001b[39;00m ioargs\u001b[38;5;241m.\u001b[39mmode:\n\u001b[1;32m    862\u001b[0m         \u001b[38;5;66;03m# Encoding\u001b[39;00m\n\u001b[0;32m--> 863\u001b[0m         handle \u001b[38;5;241m=\u001b[39m \u001b[38;5;28mopen\u001b[39m(\n\u001b[1;32m    864\u001b[0m             handle,\n\u001b[1;32m    865\u001b[0m             ioargs\u001b[38;5;241m.\u001b[39mmode,\n\u001b[1;32m    866\u001b[0m             encoding\u001b[38;5;241m=\u001b[39mioargs\u001b[38;5;241m.\u001b[39mencoding,\n\u001b[1;32m    867\u001b[0m             errors\u001b[38;5;241m=\u001b[39merrors,\n\u001b[1;32m    868\u001b[0m             newline\u001b[38;5;241m=\u001b[39m\u001b[38;5;124m\"\u001b[39m\u001b[38;5;124m\"\u001b[39m,\n\u001b[1;32m    869\u001b[0m         )\n\u001b[1;32m    870\u001b[0m     \u001b[38;5;28;01melse\u001b[39;00m:\n\u001b[1;32m    871\u001b[0m         \u001b[38;5;66;03m# Binary mode\u001b[39;00m\n\u001b[1;32m    872\u001b[0m         handle \u001b[38;5;241m=\u001b[39m \u001b[38;5;28mopen\u001b[39m(handle, ioargs\u001b[38;5;241m.\u001b[39mmode)\n",
      "\u001b[0;31mFileNotFoundError\u001b[0m: [Errno 2] No such file or directory: 'Groceriesdatatrain.csv'"
     ]
    }
   ],
   "source": [
    "\n",
    "import pandas as pd\n",
    "df = pd.read_csv('Groceriesdatatrain.csv')"
   ]
  },
  {
   "cell_type": "code",
   "execution_count": 11,
   "metadata": {
    "datalore": {
     "hide_input_from_viewers": true,
     "hide_output_from_viewers": true,
     "node_id": "5Zht9ahSs8jY1e815R3wGW",
     "type": "CODE"
    }
   },
   "outputs": [
    {
     "name": "stdout",
     "output_type": "stream",
     "text": [
      "Dataset Overview:\n"
     ]
    },
    {
     "ename": "NameError",
     "evalue": "name 'df' is not defined",
     "output_type": "error",
     "traceback": [
      "\u001b[0;31m---------------------------------------------------------------------------\u001b[0m",
      "\u001b[0;31mNameError\u001b[0m                                 Traceback (most recent call last)",
      "Cell \u001b[0;32mIn[11], line 2\u001b[0m\n\u001b[1;32m      1\u001b[0m \u001b[38;5;28mprint\u001b[39m(\u001b[38;5;124m\"\u001b[39m\u001b[38;5;124mDataset Overview:\u001b[39m\u001b[38;5;124m\"\u001b[39m)\n\u001b[0;32m----> 2\u001b[0m \u001b[38;5;28mprint\u001b[39m(df\u001b[38;5;241m.\u001b[39mhead())  \n\u001b[1;32m      3\u001b[0m \u001b[38;5;28mprint\u001b[39m(\u001b[38;5;124m\"\u001b[39m\u001b[38;5;130;01m\\n\u001b[39;00m\u001b[38;5;124mDataset Shape:\u001b[39m\u001b[38;5;124m\"\u001b[39m)\n\u001b[1;32m      4\u001b[0m \u001b[38;5;28mprint\u001b[39m(df\u001b[38;5;241m.\u001b[39mshape)\n",
      "\u001b[0;31mNameError\u001b[0m: name 'df' is not defined"
     ]
    }
   ],
   "source": [
    "print(\"Dataset Overview:\")\n",
    "print(df.head())  \n",
    "print(\"\\nDataset Shape:\")\n",
    "print(df.shape)"
   ]
  },
  {
   "cell_type": "code",
   "execution_count": null,
   "metadata": {
    "datalore": {
     "hide_input_from_viewers": true,
     "hide_output_from_viewers": true,
     "node_id": "IfsWfRdkrmvA18mC86Ujae",
     "type": "CODE"
    }
   },
   "outputs": [],
   "source": [
    "print(\"\\nMissing Values:\")\n",
    "print(df.isnull().sum())"
   ]
  },
  {
   "cell_type": "code",
   "execution_count": null,
   "metadata": {
    "datalore": {
     "hide_input_from_viewers": true,
     "hide_output_from_viewers": true,
     "node_id": "ck3V3n0waGl9TAkQCC4plR",
     "type": "CODE"
    }
   },
   "outputs": [],
   "source": [
    "print(\"\\nData Types:\")\n",
    "print(df.dtypes) "
   ]
  },
  {
   "cell_type": "code",
   "execution_count": null,
   "metadata": {
    "datalore": {
     "hide_input_from_viewers": true,
     "hide_output_from_viewers": true,
     "node_id": "mxvBT09xGkuaReIEM6uIx7",
     "type": "CODE"
    }
   },
   "outputs": [],
   "source": [
    "print(\"\\nSummary Statistics:\")\n",
    "print(df.describe())"
   ]
  },
  {
   "cell_type": "code",
   "execution_count": 2,
   "metadata": {
    "datalore": {
     "hide_input_from_viewers": true,
     "hide_output_from_viewers": true,
     "node_id": "zZwJK425t0nYfgFihopwpk",
     "type": "CODE"
    }
   },
   "outputs": [
    {
     "name": "stdout",
     "output_type": "stream",
     "text": [
      "\n",
      "Unique Values in Categorical Columns:\n"
     ]
    },
    {
     "ename": "NameError",
     "evalue": "name 'df' is not defined",
     "output_type": "error",
     "traceback": [
      "\u001b[0;31m---------------------------------------------------------------------------\u001b[0m",
      "\u001b[0;31mNameError\u001b[0m                                 Traceback (most recent call last)",
      "Cell \u001b[0;32mIn[2], line 2\u001b[0m\n\u001b[1;32m      1\u001b[0m \u001b[38;5;28mprint\u001b[39m(\u001b[38;5;124m\"\u001b[39m\u001b[38;5;130;01m\\n\u001b[39;00m\u001b[38;5;124mUnique Values in Categorical Columns:\u001b[39m\u001b[38;5;124m\"\u001b[39m)\n\u001b[0;32m----> 2\u001b[0m \u001b[38;5;28;01mfor\u001b[39;00m col \u001b[38;5;129;01min\u001b[39;00m df\u001b[38;5;241m.\u001b[39mselect_dtypes(include\u001b[38;5;241m=\u001b[39m[\u001b[38;5;124m'\u001b[39m\u001b[38;5;124mobject\u001b[39m\u001b[38;5;124m'\u001b[39m]):  \u001b[38;5;66;03m# Adjust dtype criteria based on your dataset\u001b[39;00m\n\u001b[1;32m      3\u001b[0m     \u001b[38;5;28mprint\u001b[39m(\u001b[38;5;124mf\u001b[39m\u001b[38;5;124m\"\u001b[39m\u001b[38;5;130;01m\\n\u001b[39;00m\u001b[38;5;132;01m{\u001b[39;00mcol\u001b[38;5;132;01m}\u001b[39;00m\u001b[38;5;124m:\u001b[39m\u001b[38;5;124m\"\u001b[39m)\n\u001b[1;32m      4\u001b[0m     \u001b[38;5;28mprint\u001b[39m(df[col]\u001b[38;5;241m.\u001b[39mvalue_counts())\n",
      "\u001b[0;31mNameError\u001b[0m: name 'df' is not defined"
     ]
    }
   ],
   "source": [
    "print(\"\\nUnique Values in Categorical Columns:\")\n",
    "for col in df.select_dtypes(include=['object']):  # Adjust dtype criteria based on your dataset\n",
    "    print(f\"\\n{col}:\")\n",
    "    print(df[col].value_counts())"
   ]
  },
  {
   "attachments": {},
   "cell_type": "markdown",
   "metadata": {
    "datalore": {
     "hide_input_from_viewers": true,
     "hide_output_from_viewers": true,
     "node_id": "3sLIL8ZeM5X01hQ8JNkiPu",
     "type": "MD"
    }
   },
   "source": [
    "Preprocessing the Data:\n"
   ]
  },
  {
   "cell_type": "code",
   "execution_count": 3,
   "metadata": {
    "datalore": {
     "hide_input_from_viewers": true,
     "hide_output_from_viewers": true,
     "node_id": "LJmXOVr8RHn878i6DzUq4e",
     "type": "CODE"
    }
   },
   "outputs": [
    {
     "name": "stdout",
     "output_type": "stream",
     "text": [
      "Collecting mlxtend\n",
      "  Downloading mlxtend-0.23.1-py3-none-any.whl.metadata (7.3 kB)\n",
      "Requirement already satisfied: scipy>=1.2.1 in /opt/anaconda3/lib/python3.11/site-packages (from mlxtend) (1.11.4)\n",
      "Requirement already satisfied: numpy>=1.16.2 in /opt/anaconda3/lib/python3.11/site-packages (from mlxtend) (1.26.4)\n",
      "Requirement already satisfied: pandas>=0.24.2 in /opt/anaconda3/lib/python3.11/site-packages (from mlxtend) (2.1.4)\n",
      "Requirement already satisfied: scikit-learn>=1.0.2 in /opt/anaconda3/lib/python3.11/site-packages (from mlxtend) (1.2.2)\n",
      "Requirement already satisfied: matplotlib>=3.0.0 in /opt/anaconda3/lib/python3.11/site-packages (from mlxtend) (3.8.0)\n",
      "Requirement already satisfied: joblib>=0.13.2 in /opt/anaconda3/lib/python3.11/site-packages (from mlxtend) (1.2.0)\n",
      "Requirement already satisfied: contourpy>=1.0.1 in /opt/anaconda3/lib/python3.11/site-packages (from matplotlib>=3.0.0->mlxtend) (1.2.0)\n",
      "Requirement already satisfied: cycler>=0.10 in /opt/anaconda3/lib/python3.11/site-packages (from matplotlib>=3.0.0->mlxtend) (0.11.0)\n",
      "Requirement already satisfied: fonttools>=4.22.0 in /opt/anaconda3/lib/python3.11/site-packages (from matplotlib>=3.0.0->mlxtend) (4.25.0)\n",
      "Requirement already satisfied: kiwisolver>=1.0.1 in /opt/anaconda3/lib/python3.11/site-packages (from matplotlib>=3.0.0->mlxtend) (1.4.4)\n",
      "Requirement already satisfied: packaging>=20.0 in /opt/anaconda3/lib/python3.11/site-packages (from matplotlib>=3.0.0->mlxtend) (23.1)\n",
      "Requirement already satisfied: pillow>=6.2.0 in /opt/anaconda3/lib/python3.11/site-packages (from matplotlib>=3.0.0->mlxtend) (10.2.0)\n",
      "Requirement already satisfied: pyparsing>=2.3.1 in /opt/anaconda3/lib/python3.11/site-packages (from matplotlib>=3.0.0->mlxtend) (3.0.9)\n",
      "Requirement already satisfied: python-dateutil>=2.7 in /opt/anaconda3/lib/python3.11/site-packages (from matplotlib>=3.0.0->mlxtend) (2.8.2)\n",
      "Requirement already satisfied: pytz>=2020.1 in /opt/anaconda3/lib/python3.11/site-packages (from pandas>=0.24.2->mlxtend) (2023.3.post1)\n",
      "Requirement already satisfied: tzdata>=2022.1 in /opt/anaconda3/lib/python3.11/site-packages (from pandas>=0.24.2->mlxtend) (2023.3)\n",
      "Requirement already satisfied: threadpoolctl>=2.0.0 in /opt/anaconda3/lib/python3.11/site-packages (from scikit-learn>=1.0.2->mlxtend) (2.2.0)\n",
      "Requirement already satisfied: six>=1.5 in /opt/anaconda3/lib/python3.11/site-packages (from python-dateutil>=2.7->matplotlib>=3.0.0->mlxtend) (1.16.0)\n",
      "Downloading mlxtend-0.23.1-py3-none-any.whl (1.4 MB)\n",
      "\u001b[2K   \u001b[90m━━━━━━━━━━━━━━━━━━━━━━━━━━━━━━━━━━━━━━━━\u001b[0m \u001b[32m1.4/1.4 MB\u001b[0m \u001b[31m6.7 MB/s\u001b[0m eta \u001b[36m0:00:00\u001b[0ma \u001b[36m0:00:01\u001b[0m\n",
      "\u001b[?25hInstalling collected packages: mlxtend\n",
      "Successfully installed mlxtend-0.23.1\n"
     ]
    }
   ],
   "source": [
    "# In the Jupyter notebook, you can install the required module using the following command\n",
    "!pip install mlxtend\n",
    "\n",
    "# If you're using an Anaconda distribution, you might prefer using conda for installation\n",
    "# !conda install -c conda-forge mlxtend --yes\n",
    "\n",
    "from mlxtend.preprocessing import TransactionEncoder"
   ]
  },
  {
   "cell_type": "code",
   "execution_count": 4,
   "metadata": {
    "datalore": {
     "hide_input_from_viewers": true,
     "hide_output_from_viewers": true,
     "node_id": "EMmTaZ5DMbdAFj7Q9NySYy",
     "type": "CODE"
    }
   },
   "outputs": [
    {
     "ename": "NameError",
     "evalue": "name 'df' is not defined",
     "output_type": "error",
     "traceback": [
      "\u001b[0;31m---------------------------------------------------------------------------\u001b[0m",
      "\u001b[0;31mNameError\u001b[0m                                 Traceback (most recent call last)",
      "Cell \u001b[0;32mIn[4], line 2\u001b[0m\n\u001b[1;32m      1\u001b[0m \u001b[38;5;66;03m# Step 1: Convert 'Date' column to datetime format (if not already)\u001b[39;00m\n\u001b[0;32m----> 2\u001b[0m df[\u001b[38;5;124m'\u001b[39m\u001b[38;5;124mDate\u001b[39m\u001b[38;5;124m'\u001b[39m] \u001b[38;5;241m=\u001b[39m pd\u001b[38;5;241m.\u001b[39mto_datetime(df[\u001b[38;5;124m'\u001b[39m\u001b[38;5;124mDate\u001b[39m\u001b[38;5;124m'\u001b[39m], \u001b[38;5;28mformat\u001b[39m\u001b[38;5;241m=\u001b[39m\u001b[38;5;124m'\u001b[39m\u001b[38;5;132;01m%d\u001b[39;00m\u001b[38;5;124m/\u001b[39m\u001b[38;5;124m%\u001b[39m\u001b[38;5;124mm/\u001b[39m\u001b[38;5;124m%\u001b[39m\u001b[38;5;124mY\u001b[39m\u001b[38;5;124m'\u001b[39m)\n",
      "\u001b[0;31mNameError\u001b[0m: name 'df' is not defined"
     ]
    }
   ],
   "source": [
    "# Step 1: Convert 'Date' column to datetime format (if not already)\n",
    "df['Date'] = pd.to_datetime(df['Date'], format='%d/%m/%Y')"
   ]
  },
  {
   "cell_type": "code",
   "execution_count": null,
   "metadata": {
    "datalore": {
     "hide_input_from_viewers": true,
     "hide_output_from_viewers": true,
     "node_id": "ewQajCpbQzCMewzXV5oZB0",
     "type": "CODE"
    }
   },
   "outputs": [],
   "source": [
    "\n",
    "# Step 2: Select relevant columns for mining frequent itemsets\n",
    "transactions = df.groupby('Member_number')['itemDescription'].apply(list).values.tolist()"
   ]
  },
  {
   "cell_type": "code",
   "execution_count": null,
   "metadata": {
    "datalore": {
     "hide_input_from_viewers": true,
     "hide_output_from_viewers": true,
     "node_id": "kJLh6m2YKYkrCTgEWZQUNx",
     "type": "CODE"
    }
   },
   "outputs": [],
   "source": [
    "\n",
    "# Step 3: Convert transactions into a one-hot encoded DataFrame\n",
    "te = TransactionEncoder()\n",
    "te_ary = te.fit(transactions).transform(transactions)\n",
    "df_encoded = pd.DataFrame(te_ary, columns=te.columns_)"
   ]
  },
  {
   "cell_type": "code",
   "execution_count": 119,
   "metadata": {
    "datalore": {
     "hide_input_from_viewers": true,
     "hide_output_from_viewers": true,
     "node_id": "Gn8kt93hh3BpBAS8wfKZti",
     "type": "CODE"
    }
   },
   "outputs": [
    {
     "name": "stdout",
     "output_type": "stream",
     "text": [
      "Processed Dataset:\n",
      "   Instant food products  UHT-milk  abrasive cleaner  artif. sweetener  \\\n",
      "0                  False     False             False             False   \n",
      "1                  False     False             False             False   \n",
      "2                  False     False             False             False   \n",
      "3                  False     False             False             False   \n",
      "4                  False     False             False             False   \n",
      "\n",
      "   baby cosmetics   bags  baking powder  bathroom cleaner   beef  berries  \\\n",
      "0           False  False          False             False  False    False   \n",
      "1           False  False          False             False   True    False   \n",
      "2           False  False          False             False  False    False   \n",
      "3           False  False          False             False  False    False   \n",
      "4           False  False          False             False  False    False   \n",
      "\n",
      "   ...  turkey  vinegar  waffles  whipped/sour cream  whisky  white bread  \\\n",
      "0  ...   False    False    False               False   False        False   \n",
      "1  ...   False    False    False                True   False         True   \n",
      "2  ...   False    False    False               False   False        False   \n",
      "3  ...   False    False    False               False   False        False   \n",
      "4  ...   False    False    False               False   False        False   \n",
      "\n",
      "   white wine  whole milk  yogurt  zwieback  \n",
      "0       False       False    True     False  \n",
      "1       False        True   False     False  \n",
      "2       False        True   False     False  \n",
      "3       False       False   False     False  \n",
      "4       False        True   False     False  \n",
      "\n",
      "[5 rows x 167 columns]\n"
     ]
    },
    {
     "name": "stderr",
     "output_type": "stream",
     "text": [
      "/opt/python/envs/default/lib/python3.8/site-packages/ipykernel/ipkernel.py:283: DeprecationWarning: `should_run_async` will not call `transform_cell` automatically in the future. Please pass the result to `transformed_cell` argument and any exception that happen during thetransform in `preprocessing_exc_tuple` in IPython 7.17 and above.\n",
      "  and should_run_async(code)\n"
     ]
    }
   ],
   "source": [
    "# Display the processed dataset\n",
    "print(\"Processed Dataset:\")\n",
    "print(df_encoded.head())"
   ]
  },
  {
   "cell_type": "code",
   "execution_count": 120,
   "metadata": {
    "datalore": {
     "hide_input_from_viewers": true,
     "hide_output_from_viewers": true,
     "node_id": "qQ3JPPAU2RCupulVHSdsFL",
     "type": "CODE"
    }
   },
   "outputs": [
    {
     "name": "stdout",
     "output_type": "stream",
     "text": [
      "\n",
      "Encoded Dataset Shape:\n",
      "(3872, 167)\n"
     ]
    },
    {
     "name": "stderr",
     "output_type": "stream",
     "text": [
      "/opt/python/envs/default/lib/python3.8/site-packages/ipykernel/ipkernel.py:283: DeprecationWarning: `should_run_async` will not call `transform_cell` automatically in the future. Please pass the result to `transformed_cell` argument and any exception that happen during thetransform in `preprocessing_exc_tuple` in IPython 7.17 and above.\n",
      "  and should_run_async(code)\n"
     ]
    }
   ],
   "source": [
    "# Optionally, you can check the shape and basic information of the encoded DataFrame\n",
    "print(\"\\nEncoded Dataset Shape:\")\n",
    "print(df_encoded.shape)"
   ]
  },
  {
   "cell_type": "code",
   "execution_count": 121,
   "metadata": {
    "datalore": {
     "hide_input_from_viewers": true,
     "hide_output_from_viewers": true,
     "node_id": "PAqyo92REnLewunBfHvOWJ",
     "type": "CODE"
    }
   },
   "outputs": [
    {
     "name": "stdout",
     "output_type": "stream",
     "text": [
      "\n",
      "Item Frequencies:\n",
      "whole milk               1345\n",
      "other vegetables         1103\n",
      "rolls/buns               1019\n",
      "soda                      910\n",
      "yogurt                    797\n",
      "                         ... \n",
      "bags                        3\n",
      "baby cosmetics              3\n",
      "frozen chicken              2\n",
      "kitchen utensil             1\n",
      "preservation products       1\n",
      "Length: 167, dtype: int64\n"
     ]
    },
    {
     "name": "stderr",
     "output_type": "stream",
     "text": [
      "/opt/python/envs/default/lib/python3.8/site-packages/ipykernel/ipkernel.py:283: DeprecationWarning: `should_run_async` will not call `transform_cell` automatically in the future. Please pass the result to `transformed_cell` argument and any exception that happen during thetransform in `preprocessing_exc_tuple` in IPython 7.17 and above.\n",
      "  and should_run_async(code)\n"
     ]
    }
   ],
   "source": [
    "# Optionally, display summary of item frequencies\n",
    "item_counts = df_encoded.sum().sort_values(ascending=False)\n",
    "print(\"\\nItem Frequencies:\")\n",
    "print(item_counts)"
   ]
  },
  {
   "attachments": {},
   "cell_type": "markdown",
   "metadata": {
    "datalore": {
     "hide_input_from_viewers": true,
     "hide_output_from_viewers": true,
     "node_id": "Eo9NnZbXFiU6fPuAbBZey5",
     "type": "MD"
    }
   },
   "source": [
    "Frequent Itemset Mining:\n"
   ]
  },
  {
   "cell_type": "code",
   "execution_count": 122,
   "metadata": {
    "datalore": {
     "hide_input_from_viewers": true,
     "hide_output_from_viewers": true,
     "node_id": "YUbPKkoFE9jHW2e9orC2cx",
     "type": "CODE"
    }
   },
   "outputs": [
    {
     "name": "stdout",
     "output_type": "stream",
     "text": [
      "Frequent Itemsets:\n",
      "      support                                           itemsets\n",
      "0    0.010847                            (Instant food products)\n",
      "1    0.052686                                         (UHT-milk)\n",
      "2    0.022211                                    (baking powder)\n",
      "3    0.090134                                             (beef)\n",
      "4    0.057335                                          (berries)\n",
      "..        ...                                                ...\n",
      "842  0.025826                         (yogurt, soda, whole milk)\n",
      "843  0.017820               (tropical fruit, yogurt, whole milk)\n",
      "844  0.015238           (whole milk, yogurt, whipped/sour cream)\n",
      "845  0.011364  (other vegetables, sausage, rolls/buns, whole ...\n",
      "846  0.010847   (other vegetables, soda, rolls/buns, whole milk)\n",
      "\n",
      "[847 rows x 2 columns]\n",
      "\n",
      "Association Rules:\n",
      "                   antecedents                                 consequents  \\\n",
      "0              (bottled water)                                  (UHT-milk)   \n",
      "1                   (UHT-milk)                             (bottled water)   \n",
      "2                   (UHT-milk)                          (other vegetables)   \n",
      "3           (other vegetables)                                  (UHT-milk)   \n",
      "4                   (UHT-milk)                                (rolls/buns)   \n",
      "...                        ...                                         ...   \n",
      "2231  (rolls/buns, whole milk)                    (soda, other vegetables)   \n",
      "2232        (other vegetables)              (soda, rolls/buns, whole milk)   \n",
      "2233                    (soda)  (rolls/buns, other vegetables, whole milk)   \n",
      "2234              (rolls/buns)        (soda, other vegetables, whole milk)   \n",
      "2235              (whole milk)        (rolls/buns, soda, other vegetables)   \n",
      "\n",
      "      antecedent support  consequent support   support  confidence      lift  \\\n",
      "0               0.159866            0.052686  0.011105    0.069467  1.318509   \n",
      "1               0.052686            0.159866  0.011105    0.210784  1.318509   \n",
      "2               0.052686            0.284866  0.020145    0.382353  1.342222   \n",
      "3               0.284866            0.052686  0.020145    0.070716  1.342222   \n",
      "4               0.052686            0.263171  0.017304    0.328431  1.247975   \n",
      "...                  ...                 ...       ...         ...       ...   \n",
      "2231            0.106147            0.072056  0.010847    0.102190  1.418204   \n",
      "2232            0.284866            0.031250  0.010847    0.038078  1.218495   \n",
      "2233            0.235021            0.037448  0.010847    0.046154  1.232467   \n",
      "2234            0.263171            0.031508  0.010847    0.041217  1.308129   \n",
      "2235            0.347366            0.024277  0.010847    0.031227  1.286277   \n",
      "\n",
      "      leverage  conviction  zhangs_metric  \n",
      "0     0.002683    1.018034       0.287534  \n",
      "1     0.002683    1.064518       0.255002  \n",
      "2     0.005136    1.157836       0.269147  \n",
      "3     0.005136    1.019402       0.356530  \n",
      "4     0.003438    1.097175       0.209753  \n",
      "...        ...         ...            ...  \n",
      "2231  0.003199    1.033564       0.329901  \n",
      "2232  0.001945    1.007098       0.250744  \n",
      "2233  0.002046    1.009127       0.246568  \n",
      "2234  0.002555    1.010126       0.319680  \n",
      "2235  0.002414    1.007174       0.341022  \n",
      "\n",
      "[2236 rows x 10 columns]\n"
     ]
    },
    {
     "name": "stderr",
     "output_type": "stream",
     "text": [
      "/opt/python/envs/default/lib/python3.8/site-packages/ipykernel/ipkernel.py:283: DeprecationWarning: `should_run_async` will not call `transform_cell` automatically in the future. Please pass the result to `transformed_cell` argument and any exception that happen during thetransform in `preprocessing_exc_tuple` in IPython 7.17 and above.\n",
      "  and should_run_async(code)\n"
     ]
    }
   ],
   "source": [
    "from mlxtend.frequent_patterns import apriori\n",
    "from mlxtend.frequent_patterns import association_rules\n",
    "\n",
    "# Assuming df_encoded is your processed one-hot encoded DataFrame from the preprocessing step\n",
    "\n",
    "# Define minimum support threshold (adjust as needed)\n",
    "min_support = 0.01  # This means the itemset should be present in at least 1% of the transactions\n",
    "\n",
    "# Apply Apriori algorithm to find frequent itemsets\n",
    "frequent_itemsets = apriori(df_encoded, min_support=min_support, use_colnames=True)\n",
    "\n",
    "# Print the frequent itemsets\n",
    "print(\"Frequent Itemsets:\")\n",
    "print(frequent_itemsets)\n",
    "\n",
    "# Optionally, you can also generate association rules based on the frequent itemsets\n",
    "rules = association_rules(frequent_itemsets, metric=\"lift\", min_threshold=1)\n",
    "print(\"\\nAssociation Rules:\")\n",
    "print(rules)\n",
    "\n",
    "# Optionally, you can explore and visualize more aspects of the frequent itemsets and rules"
   ]
  },
  {
   "cell_type": "code",
   "execution_count": null,
   "metadata": {
    "datalore": {
     "hide_input_from_viewers": true,
     "hide_output_from_viewers": true,
     "node_id": "pGm2UwuVPz5wvA88sLsJnJ",
     "type": "CODE"
    }
   },
   "outputs": [],
   "source": []
  },
  {
   "attachments": {},
   "cell_type": "markdown",
   "metadata": {
    "datalore": {
     "hide_input_from_viewers": true,
     "hide_output_from_viewers": true,
     "node_id": "aLJQGicoXXlvoJXvdv1Lza",
     "type": "MD"
    }
   },
   "source": [
    "Evaluation of Patterns:\n"
   ]
  },
  {
   "cell_type": "code",
   "execution_count": 123,
   "metadata": {
    "datalore": {
     "hide_input_from_viewers": true,
     "hide_output_from_viewers": true,
     "node_id": "XOQoKX5WUYSYGZMDPHaiLq",
     "type": "CODE"
    }
   },
   "outputs": [
    {
     "name": "stdout",
     "output_type": "stream",
     "text": [
      "Top Frequent Itemsets:\n",
      "      support            itemsets\n",
      "99   0.347366        (whole milk)\n",
      "63   0.284866  (other vegetables)\n",
      "76   0.263171        (rolls/buns)\n",
      "85   0.235021              (soda)\n",
      "100  0.205837            (yogurt)\n",
      "77   0.169421   (root vegetables)\n",
      "93   0.162190    (tropical fruit)\n",
      "7    0.159866     (bottled water)\n",
      "80   0.148244           (sausage)\n",
      "21   0.133781      (citrus fruit)\n"
     ]
    },
    {
     "name": "stderr",
     "output_type": "stream",
     "text": [
      "/opt/python/envs/default/lib/python3.8/site-packages/ipykernel/ipkernel.py:283: DeprecationWarning: `should_run_async` will not call `transform_cell` automatically in the future. Please pass the result to `transformed_cell` argument and any exception that happen during thetransform in `preprocessing_exc_tuple` in IPython 7.17 and above.\n",
      "  and should_run_async(code)\n"
     ]
    }
   ],
   "source": [
    "# Display top frequent itemsets based on support\n",
    "print(\"Top Frequent Itemsets:\")\n",
    "top_frequent_itemsets = frequent_itemsets.sort_values(by='support', ascending=False).head(10)\n",
    "print(top_frequent_itemsets)"
   ]
  },
  {
   "cell_type": "code",
   "execution_count": 124,
   "metadata": {
    "datalore": {
     "hide_input_from_viewers": true,
     "hide_output_from_viewers": true,
     "node_id": "SeZy1Ybg9tPrUVCVXPZ6YP",
     "type": "CODE"
    }
   },
   "outputs": [
    {
     "name": "stdout",
     "output_type": "stream",
     "text": [
      "\n",
      "Top Association Rules by Confidence:\n",
      "                                  antecedents   consequents  \\\n",
      "1358             (shopping bags, canned beer)  (whole milk)   \n",
      "1520                           (curd, yogurt)  (whole milk)   \n",
      "2144            (sausage, whipped/sour cream)  (whole milk)   \n",
      "2208  (rolls/buns, sausage, other vegetables)  (whole milk)   \n",
      "1388                      (chocolate, yogurt)  (whole milk)   \n",
      "1490              (cream cheese , rolls/buns)  (whole milk)   \n",
      "1514                             (curd, soda)  (whole milk)   \n",
      "1094             (bottled water, brown bread)  (whole milk)   \n",
      "1352                   (canned beer, sausage)  (whole milk)   \n",
      "1220                  (bottled water, yogurt)  (whole milk)   \n",
      "\n",
      "      antecedent support  consequent support   support  confidence      lift  \\\n",
      "1358            0.016787            0.347366  0.010589    0.630769  1.815865   \n",
      "1520            0.020145            0.347366  0.012397    0.615385  1.771576   \n",
      "2144            0.021436            0.347366  0.012913    0.602410  1.734223   \n",
      "2208            0.019112            0.347366  0.011364    0.594595  1.711725   \n",
      "1388            0.017304            0.347366  0.010072    0.582090  1.675725   \n",
      "1490            0.020661            0.347366  0.011880    0.575000  1.655316   \n",
      "1514            0.024793            0.347366  0.014205    0.572917  1.649318   \n",
      "1094            0.023244            0.347366  0.013171    0.566667  1.631326   \n",
      "1352            0.019370            0.347366  0.010847    0.560000  1.612134   \n",
      "1220            0.035640            0.347366  0.019886    0.557971  1.606293   \n",
      "\n",
      "      leverage  conviction  zhangs_metric  \n",
      "1358  0.004758    1.767551       0.456970  \n",
      "1520  0.005399    1.696849       0.444485  \n",
      "2144  0.005467    1.641474       0.432647  \n",
      "2208  0.004725    1.609831       0.423895  \n",
      "1388  0.004062    1.561661       0.410344  \n",
      "1490  0.004703    1.535610       0.404238  \n",
      "1514  0.005592    1.528119       0.403698  \n",
      "1094  0.005097    1.506079       0.396211  \n",
      "1352  0.004119    1.483260       0.387204  \n",
      "1220  0.007506    1.476451       0.391398  \n"
     ]
    },
    {
     "name": "stderr",
     "output_type": "stream",
     "text": [
      "/opt/python/envs/default/lib/python3.8/site-packages/ipykernel/ipkernel.py:283: DeprecationWarning: `should_run_async` will not call `transform_cell` automatically in the future. Please pass the result to `transformed_cell` argument and any exception that happen during thetransform in `preprocessing_exc_tuple` in IPython 7.17 and above.\n",
      "  and should_run_async(code)\n"
     ]
    }
   ],
   "source": [
    "# Display top association rules based on confidence\n",
    "print(\"\\nTop Association Rules by Confidence:\")\n",
    "top_confidence_rules = rules.sort_values(by='confidence', ascending=False).head(10)\n",
    "print(top_confidence_rules)"
   ]
  },
  {
   "cell_type": "code",
   "execution_count": 125,
   "metadata": {
    "datalore": {
     "hide_input_from_viewers": true,
     "hide_output_from_viewers": true,
     "node_id": "sRJKFek7IWqbE0UyFVo5Cp",
     "type": "CODE"
    }
   },
   "outputs": [
    {
     "name": "stdout",
     "output_type": "stream",
     "text": [
      "\n",
      "Top Association Rules by Lift:\n",
      "                                     antecedents  \\\n",
      "2216                       (sausage, whole milk)   \n",
      "2213              (rolls/buns, other vegetables)   \n",
      "2215                       (sausage, rolls/buns)   \n",
      "2214              (other vegetables, whole milk)   \n",
      "2210  (rolls/buns, other vegetables, whole milk)   \n",
      "2219                                   (sausage)   \n",
      "2217                    (rolls/buns, whole milk)   \n",
      "2212                 (sausage, other vegetables)   \n",
      "1096                   (brown bread, whole milk)   \n",
      "1097                             (bottled water)   \n",
      "\n",
      "                                     consequents  antecedent support  \\\n",
      "2216              (rolls/buns, other vegetables)            0.060950   \n",
      "2213                       (sausage, whole milk)            0.080837   \n",
      "2215              (other vegetables, whole milk)            0.046746   \n",
      "2214                       (sausage, rolls/buns)            0.112345   \n",
      "2210                                   (sausage)            0.037448   \n",
      "2219  (rolls/buns, other vegetables, whole milk)            0.148244   \n",
      "2217                 (sausage, other vegetables)            0.106147   \n",
      "2212                    (rolls/buns, whole milk)            0.053719   \n",
      "1096                             (bottled water)            0.041839   \n",
      "1097                   (brown bread, whole milk)            0.159866   \n",
      "\n",
      "      consequent support   support  confidence      lift  leverage  \\\n",
      "2216            0.080837  0.011364    0.186441  2.306384  0.006437   \n",
      "2213            0.060950  0.011364    0.140575  2.306384  0.006437   \n",
      "2215            0.112345  0.011364    0.243094  2.163815  0.006112   \n",
      "2214            0.046746  0.011364    0.101149  2.163815  0.006112   \n",
      "2210            0.148244  0.011364    0.303448  2.046954  0.005812   \n",
      "2219            0.037448  0.011364    0.076655  2.046954  0.005812   \n",
      "2217            0.053719  0.011364    0.107056  1.992888  0.005662   \n",
      "2212            0.106147  0.011364    0.211538  1.992888  0.005662   \n",
      "1096            0.159866  0.013171    0.314815  1.969245  0.006483   \n",
      "1097            0.041839  0.013171    0.082391  1.969245  0.006483   \n",
      "\n",
      "      conviction  zhangs_metric  \n",
      "2216    1.129805       0.603185  \n",
      "2213    1.092649       0.616235  \n",
      "2215    1.172741       0.564229  \n",
      "2214    1.060526       0.605926  \n",
      "2210    1.222818       0.531368  \n",
      "2219    1.042462       0.600488  \n",
      "2217    1.059732       0.557380  \n",
      "2212    1.133668       0.526499  \n",
      "1096    1.226142       0.513683  \n",
      "1097    1.044193       0.585848  \n"
     ]
    },
    {
     "name": "stderr",
     "output_type": "stream",
     "text": [
      "/opt/python/envs/default/lib/python3.8/site-packages/ipykernel/ipkernel.py:283: DeprecationWarning: `should_run_async` will not call `transform_cell` automatically in the future. Please pass the result to `transformed_cell` argument and any exception that happen during thetransform in `preprocessing_exc_tuple` in IPython 7.17 and above.\n",
      "  and should_run_async(code)\n"
     ]
    }
   ],
   "source": [
    "# Display top association rules based on lift\n",
    "print(\"\\nTop Association Rules by Lift:\")\n",
    "top_lift_rules = rules.sort_values(by='lift', ascending=False).head(10)\n",
    "print(top_lift_rules)"
   ]
  },
  {
   "cell_type": "code",
   "execution_count": 126,
   "metadata": {
    "datalore": {
     "hide_input_from_viewers": true,
     "hide_output_from_viewers": true,
     "node_id": "9Zv5OlornTtifpJ67oogMP",
     "type": "CODE"
    }
   },
   "outputs": [
    {
     "name": "stdout",
     "output_type": "stream",
     "text": [
      "\n",
      "Top Association Rules by Leverage:\n",
      "             antecedents         consequents  antecedent support  \\\n",
      "1008            (yogurt)        (whole milk)            0.205837   \n",
      "1009        (whole milk)            (yogurt)            0.347366   \n",
      "891         (whole milk)        (rolls/buns)            0.347366   \n",
      "890         (rolls/buns)        (whole milk)            0.263171   \n",
      "796   (other vegetables)        (whole milk)            0.284866   \n",
      "797         (whole milk)  (other vegetables)            0.347366   \n",
      "186      (bottled water)        (whole milk)            0.159866   \n",
      "187         (whole milk)     (bottled water)            0.347366   \n",
      "771   (other vegetables)           (sausage)            0.284866   \n",
      "770            (sausage)  (other vegetables)            0.148244   \n",
      "\n",
      "      consequent support   support  confidence      lift  leverage  \\\n",
      "1008            0.347366  0.087293    0.424090  1.220876  0.015793   \n",
      "1009            0.205837  0.087293    0.251301  1.220876  0.015793   \n",
      "891             0.263171  0.106147    0.305576  1.161130  0.014730   \n",
      "890             0.347366  0.106147    0.403337  1.161130  0.014730   \n",
      "796             0.347366  0.112345    0.394379  1.135342  0.013392   \n",
      "797             0.284866  0.112345    0.323420  1.135342  0.013392   \n",
      "186             0.347366  0.068698    0.429725  1.237098  0.013166   \n",
      "187             0.159866  0.068698    0.197770  1.237098  0.013166   \n",
      "771             0.148244  0.053719    0.188577  1.272071  0.011489   \n",
      "770             0.284866  0.053719    0.362369  1.272071  0.011489   \n",
      "\n",
      "      conviction  zhangs_metric  \n",
      "1008    1.133223       0.227807  \n",
      "1009    1.060724       0.277209  \n",
      "891     1.061065       0.212630  \n",
      "890     1.093806       0.188334  \n",
      "796     1.077628       0.166694  \n",
      "797     1.056984       0.182657  \n",
      "186     1.144421       0.228126  \n",
      "187     1.047248       0.293666  \n",
      "771     1.049706       0.299077  \n",
      "770     1.121549       0.251105  \n"
     ]
    },
    {
     "name": "stderr",
     "output_type": "stream",
     "text": [
      "/opt/python/envs/default/lib/python3.8/site-packages/ipykernel/ipkernel.py:283: DeprecationWarning: `should_run_async` will not call `transform_cell` automatically in the future. Please pass the result to `transformed_cell` argument and any exception that happen during thetransform in `preprocessing_exc_tuple` in IPython 7.17 and above.\n",
      "  and should_run_async(code)\n"
     ]
    }
   ],
   "source": [
    "# Display top association rules based on leverage\n",
    "print(\"\\nTop Association Rules by Leverage:\")\n",
    "top_leverage_rules = rules.sort_values(by='leverage', ascending=False).head(10)\n",
    "print(top_leverage_rules)"
   ]
  },
  {
   "cell_type": "code",
   "execution_count": 127,
   "metadata": {
    "datalore": {
     "hide_input_from_viewers": true,
     "hide_output_from_viewers": true,
     "node_id": "9RF61fXZnDjMnB7bFThGZz",
     "type": "CODE"
    }
   },
   "outputs": [
    {
     "name": "stdout",
     "output_type": "stream",
     "text": [
      "\n",
      "Top Association Rules by Conviction:\n",
      "                                  antecedents   consequents  \\\n",
      "1358             (shopping bags, canned beer)  (whole milk)   \n",
      "1520                           (curd, yogurt)  (whole milk)   \n",
      "2144            (sausage, whipped/sour cream)  (whole milk)   \n",
      "2208  (rolls/buns, sausage, other vegetables)  (whole milk)   \n",
      "1388                      (chocolate, yogurt)  (whole milk)   \n",
      "1490              (cream cheese , rolls/buns)  (whole milk)   \n",
      "1514                             (curd, soda)  (whole milk)   \n",
      "1094             (bottled water, brown bread)  (whole milk)   \n",
      "1352                   (canned beer, sausage)  (whole milk)   \n",
      "1220                  (bottled water, yogurt)  (whole milk)   \n",
      "\n",
      "      antecedent support  consequent support   support  confidence      lift  \\\n",
      "1358            0.016787            0.347366  0.010589    0.630769  1.815865   \n",
      "1520            0.020145            0.347366  0.012397    0.615385  1.771576   \n",
      "2144            0.021436            0.347366  0.012913    0.602410  1.734223   \n",
      "2208            0.019112            0.347366  0.011364    0.594595  1.711725   \n",
      "1388            0.017304            0.347366  0.010072    0.582090  1.675725   \n",
      "1490            0.020661            0.347366  0.011880    0.575000  1.655316   \n",
      "1514            0.024793            0.347366  0.014205    0.572917  1.649318   \n",
      "1094            0.023244            0.347366  0.013171    0.566667  1.631326   \n",
      "1352            0.019370            0.347366  0.010847    0.560000  1.612134   \n",
      "1220            0.035640            0.347366  0.019886    0.557971  1.606293   \n",
      "\n",
      "      leverage  conviction  zhangs_metric  \n",
      "1358  0.004758    1.767551       0.456970  \n",
      "1520  0.005399    1.696849       0.444485  \n",
      "2144  0.005467    1.641474       0.432647  \n",
      "2208  0.004725    1.609831       0.423895  \n",
      "1388  0.004062    1.561661       0.410344  \n",
      "1490  0.004703    1.535610       0.404238  \n",
      "1514  0.005592    1.528119       0.403698  \n",
      "1094  0.005097    1.506079       0.396211  \n",
      "1352  0.004119    1.483260       0.387204  \n",
      "1220  0.007506    1.476451       0.391398  \n"
     ]
    },
    {
     "name": "stderr",
     "output_type": "stream",
     "text": [
      "/opt/python/envs/default/lib/python3.8/site-packages/ipykernel/ipkernel.py:283: DeprecationWarning: `should_run_async` will not call `transform_cell` automatically in the future. Please pass the result to `transformed_cell` argument and any exception that happen during thetransform in `preprocessing_exc_tuple` in IPython 7.17 and above.\n",
      "  and should_run_async(code)\n"
     ]
    }
   ],
   "source": [
    "# Display top association rules based on conviction\n",
    "print(\"\\nTop Association Rules by Conviction:\")\n",
    "top_conviction_rules = rules.sort_values(by='conviction', ascending=False).head(10)\n",
    "print(top_conviction_rules)"
   ]
  },
  {
   "cell_type": "code",
   "execution_count": 128,
   "metadata": {
    "datalore": {
     "hide_input_from_viewers": true,
     "hide_output_from_viewers": true,
     "node_id": "00xvtyVH5XxG3mJMxsX4hd",
     "type": "CODE"
    }
   },
   "outputs": [
    {
     "name": "stdout",
     "output_type": "stream",
     "text": [
      "\n",
      "Top Association Rules by Zhang's Metric:\n",
      "                         antecedents                              consequents  \\\n",
      "1363                    (whole milk)             (shopping bags, canned beer)   \n",
      "1525                    (whole milk)                           (curd, yogurt)   \n",
      "2145                    (whole milk)            (sausage, whipped/sour cream)   \n",
      "2221                    (whole milk)  (rolls/buns, sausage, other vegetables)   \n",
      "1393                    (whole milk)                      (chocolate, yogurt)   \n",
      "2213  (rolls/buns, other vegetables)                    (sausage, whole milk)   \n",
      "1495                    (whole milk)              (cream cheese , rolls/buns)   \n",
      "2214  (other vegetables, whole milk)                    (sausage, rolls/buns)   \n",
      "1519                    (whole milk)                             (curd, soda)   \n",
      "2216           (sausage, whole milk)           (rolls/buns, other vegetables)   \n",
      "\n",
      "      antecedent support  consequent support   support  confidence      lift  \\\n",
      "1363            0.347366            0.016787  0.010589    0.030483  1.815865   \n",
      "1525            0.347366            0.020145  0.012397    0.035688  1.771576   \n",
      "2145            0.347366            0.021436  0.012913    0.037175  1.734223   \n",
      "2221            0.347366            0.019112  0.011364    0.032714  1.711725   \n",
      "1393            0.347366            0.017304  0.010072    0.028996  1.675725   \n",
      "2213            0.080837            0.060950  0.011364    0.140575  2.306384   \n",
      "1495            0.347366            0.020661  0.011880    0.034201  1.655316   \n",
      "2214            0.112345            0.046746  0.011364    0.101149  2.163815   \n",
      "1519            0.347366            0.024793  0.014205    0.040892  1.649318   \n",
      "2216            0.060950            0.080837  0.011364    0.186441  2.306384   \n",
      "\n",
      "      leverage  conviction  zhangs_metric  \n",
      "1363  0.004758    1.014127       0.688438  \n",
      "1525  0.005399    1.016118       0.667343  \n",
      "2145  0.005467    1.016346       0.648714  \n",
      "2221  0.004725    1.014062       0.637101  \n",
      "1393  0.004062    1.012042       0.617871  \n",
      "2213  0.006437    1.092649       0.616235  \n",
      "1495  0.004703    1.014019       0.606597  \n",
      "2214  0.006112    1.060526       0.605926  \n",
      "1519  0.005592    1.016785       0.603231  \n",
      "2216  0.006437    1.129805       0.603185  \n"
     ]
    },
    {
     "name": "stderr",
     "output_type": "stream",
     "text": [
      "/opt/python/envs/default/lib/python3.8/site-packages/ipykernel/ipkernel.py:283: DeprecationWarning: `should_run_async` will not call `transform_cell` automatically in the future. Please pass the result to `transformed_cell` argument and any exception that happen during thetransform in `preprocessing_exc_tuple` in IPython 7.17 and above.\n",
      "  and should_run_async(code)\n"
     ]
    }
   ],
   "source": [
    "\n",
    "# Display top association rules based on Zhang's Metric\n",
    "print(\"\\nTop Association Rules by Zhang's Metric:\")\n",
    "top_zhangs_metric_rules = rules.sort_values(by='zhangs_metric', ascending=False).head(10)\n",
    "print(top_zhangs_metric_rules)"
   ]
  },
  {
   "cell_type": "code",
   "execution_count": 129,
   "metadata": {
    "datalore": {
     "hide_input_from_viewers": true,
     "hide_output_from_viewers": true,
     "node_id": "IE5nDKZtN783quNG0azODc",
     "type": "CODE"
    }
   },
   "outputs": [
    {
     "name": "stderr",
     "output_type": "stream",
     "text": [
      "/opt/python/envs/default/lib/python3.8/site-packages/ipykernel/ipkernel.py:283: DeprecationWarning: `should_run_async` will not call `transform_cell` automatically in the future. Please pass the result to `transformed_cell` argument and any exception that happen during thetransform in `preprocessing_exc_tuple` in IPython 7.17 and above.\n",
      "  and should_run_async(code)\n"
     ]
    }
   ],
   "source": [
    "# Importing matplotlib library for data visualization\n",
    "import matplotlib.pyplot as plt"
   ]
  },
  {
   "cell_type": "code",
   "execution_count": 131,
   "metadata": {
    "datalore": {
     "hide_input_from_viewers": true,
     "hide_output_from_viewers": true,
     "node_id": "HhRBhOLDO7vXGSVcATtU6K",
     "type": "CODE"
    }
   },
   "outputs": [
    {
     "name": "stderr",
     "output_type": "stream",
     "text": [
      "/opt/python/envs/default/lib/python3.8/site-packages/ipykernel/ipkernel.py:283: DeprecationWarning: `should_run_async` will not call `transform_cell` automatically in the future. Please pass the result to `transformed_cell` argument and any exception that happen during thetransform in `preprocessing_exc_tuple` in IPython 7.17 and above.\n",
      "  and should_run_async(code)\n"
     ]
    },
    {
     "data": {
      "text/plain": [
       "<Figure size 1000x600 with 1 Axes>"
      ]
     },
     "metadata": {},
     "output_type": "display_data"
    }
   ],
   "source": [
    "plt.figure(figsize=(10, 6))\n",
    "plt.barh(top_frequent_itemsets['itemsets'].apply(lambda x: ', '.join(list(x))), top_frequent_itemsets['support'], color='skyblue')\n",
    "plt.xlabel('Support')\n",
    "plt.title('Top Frequent Itemsets')\n",
    "plt.show()"
   ]
  },
  {
   "attachments": {},
   "cell_type": "markdown",
   "metadata": {
    "datalore": {
     "hide_input_from_viewers": true,
     "hide_output_from_viewers": true,
     "node_id": "sLv0bopxKJC2ERzWm59X3a",
     "type": "MD"
    }
   },
   "source": [
    "Implementation of Apriori Algorithm:\n"
   ]
  },
  {
   "attachments": {},
   "cell_type": "markdown",
   "metadata": {
    "datalore": {
     "hide_input_from_viewers": true,
     "hide_output_from_viewers": true,
     "node_id": "5Z4a6RV08IjtsXZWgJIPMo",
     "type": "MD"
    }
   },
   "source": [
    "Documentation and Reporting:\n"
   ]
  }
 ],
 "metadata": {
  "datalore": {
   "base_environment": "default",
   "computation_mode": "JUPYTER",
   "package_manager": "pip",
   "packages": [],
   "report_row_ids": [],
   "version": 3
  },
  "kernelspec": {
   "display_name": "Python 3 (ipykernel)",
   "language": "python",
   "name": "python3"
  },
  "language_info": {
   "codemirror_mode": {
    "name": "ipython",
    "version": 3
   },
   "file_extension": ".py",
   "mimetype": "text/x-python",
   "name": "python",
   "nbconvert_exporter": "python",
   "pygments_lexer": "ipython3",
   "version": "3.11.7"
  }
 },
 "nbformat": 4,
 "nbformat_minor": 4
}
